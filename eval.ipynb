{
 "cells": [
  {
   "cell_type": "markdown",
   "metadata": {},
   "source": [
    "# Protrein generative models evaluation metrics\n",
    "## Environment Preparation\n",
    "### Conda Environment"
   ]
  },
  {
   "cell_type": "markdown",
   "metadata": {},
   "source": [
    "You can set up the conda environment by running the following command:"
   ]
  },
  {
   "cell_type": "code",
   "execution_count": null,
   "metadata": {
    "vscode": {
     "languageId": "shellscript"
    }
   },
   "outputs": [],
   "source": [
    "conda env create -f fm.yml"
   ]
  },
  {
   "cell_type": "markdown",
   "metadata": {},
   "source": [
    "Besides, you have to install the following packages:"
   ]
  },
  {
   "cell_type": "code",
   "execution_count": null,
   "metadata": {
    "vscode": {
     "languageId": "shellscript"
    }
   },
   "outputs": [],
   "source": [
    "pip install torch-scatter -f https://data.pyg.org/whl/torch-2.0.0+cu118.html\n",
    "pip install fair-esm\n",
    "conda install -c conda-forge -c bioconda foldseek\n",
    "pip install jupyter-mermaid"
   ]
  },
  {
   "cell_type": "markdown",
   "metadata": {},
   "source": [
    "use this comand to launch jupyter notebook:"
   ]
  },
  {
   "cell_type": "code",
   "execution_count": null,
   "metadata": {
    "vscode": {
     "languageId": "shellscript"
    }
   },
   "outputs": [],
   "source": [
    "jupyter nbextension enable --py jupyter_mermaid"
   ]
  },
  {
   "cell_type": "markdown",
   "metadata": {},
   "source": [
    "### Foldseek database\n",
    "\n",
    "When we calculate the novelty metric, we use the Foldseek database."
   ]
  },
  {
   "cell_type": "code",
   "execution_count": null,
   "metadata": {
    "vscode": {
     "languageId": "shellscript"
    }
   },
   "outputs": [],
   "source": [
    "conda install -c conda-forge -c bioconda foldseek\n",
    "mkdir ./foldseek_database\n",
    "cd ./foldseek_database\n",
    "foldseek databases PDB pdb tmp "
   ]
  },
  {
   "cell_type": "markdown",
   "metadata": {},
   "source": [
    "Foldseek will download the PDB database automatically. After the download, you directory should look like this:\n",
    "\n",
    "```\n",
    "foldseek_database\n",
    "    ├── pdb\n",
    "    ├── pdb_ca\n",
    "    ├── pdb_ca.dbtype\n",
    "    ├── pdb_ca.index\n",
    "    ├── pdb_clu\n",
    "    ├── pdb_clu.dbtype\n",
    "    ├── pdb_clu.index\n",
    "    ├── pdb.dbtype\n",
    "    ├── pdb_h\n",
    "    ├── pdb_h.dbtype\n",
    "    ├── pdb_h.index\n",
    "    ├── pdb.index\n",
    "    ├── pdb.lookup\n",
    "    ├── pdb_mapping\n",
    "    ├── pdb_seq.0 -> pdb\n",
    "    ├── pdb_seq.1\n",
    "    ...\n",
    "```\n",
    "\n",
    "After downloading the foldseek database, you need to replace the database path in the `foldseek_database` field of the `configs/evaluation.yaml` file."
   ]
  },
  {
   "cell_type": "markdown",
   "metadata": {},
   "source": [
    "### Maxcluster\n",
    "\n",
    "When we cluster the designed protein based on their structure, we use maxcluster to cluster them."
   ]
  },
  {
   "cell_type": "code",
   "execution_count": null,
   "metadata": {
    "vscode": {
     "languageId": "shellscript"
    }
   },
   "outputs": [],
   "source": [
    "wget https://www.sbg.bio.ic.ac.uk/maxcluster/maxcluster64bit"
   ]
  },
  {
   "cell_type": "markdown",
   "metadata": {},
   "source": [
    "#### Example data\n",
    "\n",
    "We provide some example data `./example_data` for testing purposes.\n",
    "\n",
    "```\n",
    "└── length_70\n",
    "    ├── sample_0\n",
    "    │   ├── bb_traj.pdb\n",
    "    │   ├── sample.pdb\n",
    "    │   └── x0_traj.pdb\n",
    "    ├── sample_1\n",
    "    │   ├── bb_traj.pdb\n",
    "    │   ├── sample.pdb\n",
    "    │   └── x0_traj.pdb\n",
    "```\n",
    "\n"
   ]
  },
  {
   "cell_type": "markdown",
   "metadata": {},
   "source": [
    "### ProteinMPNN\n",
    "\n",
    "We can use the ProteinMPNN model to design a sequence for a given structure. "
   ]
  },
  {
   "cell_type": "code",
   "execution_count": null,
   "metadata": {
    "vscode": {
     "languageId": "shellscript"
    }
   },
   "outputs": [],
   "source": [
    "git clone https://github.com/dauparas/ProteinMPNN.git"
   ]
  },
  {
   "cell_type": "markdown",
   "metadata": {},
   "source": [
    "## Evaluation\n",
    "\n",
    "We provide two ways to evaluate the performance of the model: \n",
    "\n",
    "1. Single pdb evaluation: only calculate the metrics of a single pdb file.\n",
    "\n",
    "2. Batch evaluation: calculate the metrics of a batch of pdb files whose paths are given in a csv file.\n",
    "\n",
    "### Single pdb evaluation"
   ]
  },
  {
   "cell_type": "code",
   "execution_count": null,
   "metadata": {},
   "outputs": [],
   "source": [
    "# import package\n",
    "import os\n",
    "import time\n",
    "import numpy as np\n",
    "import hydra\n",
    "import torch\n",
    "import subprocess\n",
    "import logging\n",
    "import pandas as pd\n",
    "import shutil\n",
    "from datetime import datetime\n",
    "from biotite.sequence.io import fasta\n",
    "import GPUtil\n",
    "from typing import Optional, Union, List\n",
    "from analysis import utils as au\n",
    "from analysis import metrics\n",
    "from data import utils as du\n",
    "from omegaconf import DictConfig, OmegaConf\n",
    "from openfold.data import data_transforms\n",
    "import esm\n",
    "from pathlib import Path\n",
    "import mdtraj as md\n",
    "from openfold.np import residue_constants\n",
    "from tmtools import tm_align\n",
    "from openfold.utils.superimposition import superimpose\n",
    "from tqdm import tqdm\n",
    "import re"
   ]
  },
  {
   "cell_type": "code",
   "execution_count": null,
   "metadata": {},
   "outputs": [],
   "source": [
    "from EvalRunner import EvalRunner\n",
    "\n",
    "@hydra.main(version_base=None, config_path=\"configs\", config_name=\"evaluation\")\n",
    "def run(conf: DictConfig) -> None:\n",
    "\n",
    "\n",
    "\n",
    "    EvalModel = EvalRunner(conf)\n",
    "    # EvalModel.calc_all_metrics(sc_output_dir, pdb_path)\n"
   ]
  },
  {
   "cell_type": "markdown",
   "metadata": {},
   "source": [
    "#### Self consistency metrics\n",
    "\n",
    "```mermaid\n",
    "\n",
    "graph TD;\n",
    "    A[Protein Generative models] --> B[ProteinMPNN (inverse folding)];\n",
    "    B --> C[ESMFold (folding)];\n",
    "\n",
    "```\n"
   ]
  },
  {
   "cell_type": "code",
   "execution_count": null,
   "metadata": {},
   "outputs": [],
   "source": [
    "# Example pdb path\n",
    "pdb_path = \"/home/shuaikes/Project/protein-evaluation-notebook/example_data/length_70/sample_0/\"\n",
    "sc_output_dir = os.path.join(pdb_path, \"self_consistency\")\n",
    "os.makedirs(sc_output_dir, exist_ok=True)\n",
    "\n",
    "sc_results = EvalModel.calc_designability(sc_output_dir, pdb_path)\n",
    "sc_results"
   ]
  },
  {
   "cell_type": "markdown",
   "metadata": {},
   "source": [
    "#### Sub-structure ratio evaluation"
   ]
  },
  {
   "cell_type": "code",
   "execution_count": null,
   "metadata": {},
   "outputs": [],
   "source": [
    "path = os.path.join(pdb_path, \"sample.pdb\")\n",
    "sub_ratio = EvalModel.calc_mdtraj_metrics(path)\n",
    "sub_ratio"
   ]
  },
  {
   "cell_type": "markdown",
   "metadata": {},
   "source": [
    "#### Novelty: pdbTM"
   ]
  },
  {
   "cell_type": "code",
   "execution_count": null,
   "metadata": {},
   "outputs": [],
   "source": [
    "path = os.path.join(pdb_path, \"sample.pdb\")\n",
    "value = EvalModel.pdbTM(pdb_path)"
   ]
  },
  {
   "cell_type": "markdown",
   "metadata": {},
   "source": [
    "#### Diversity: number of clusters\n",
    "\n",
    "We are not able to calculate the diversity of the cluster for just single protein strucuture. Please refer to section `batch evaluation`\n",
    "\n",
    "#### Calculate all metrics"
   ]
  },
  {
   "cell_type": "code",
   "execution_count": null,
   "metadata": {},
   "outputs": [],
   "source": [
    "EvalModel.calc_all_metrics(sc_output_dir, pdb_path)"
   ]
  },
  {
   "cell_type": "markdown",
   "metadata": {},
   "source": [
    "### Batch evaluation"
   ]
  },
  {
   "cell_type": "code",
   "execution_count": null,
   "metadata": {},
   "outputs": [],
   "source": [
    "pdb_csv_path = \"/home/shuaikes/Project/protein-evaluation-notebook/pdb_path.csv\"\n",
    "sc_results, sub_ratio, novelty_result, clusters = EvalModel.calc_metrics_from_csv(\n",
    "    pdb_csv_path\n",
    ")\n",
    "sc_results, sub_ratio, novelty_result, clusters"
   ]
  }
 ],
 "metadata": {
  "kernelspec": {
   "display_name": "eval",
   "language": "python",
   "name": "python3"
  },
  "language_info": {
   "codemirror_mode": {
    "name": "ipython",
    "version": 3
   },
   "file_extension": ".py",
   "mimetype": "text/x-python",
   "name": "python",
   "nbconvert_exporter": "python",
   "pygments_lexer": "ipython3",
   "version": "3.10.12"
  }
 },
 "nbformat": 4,
 "nbformat_minor": 2
}
