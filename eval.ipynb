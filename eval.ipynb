{
 "cells": [
  {
   "cell_type": "markdown",
   "metadata": {},
   "source": [
    "# Protrein generative models evaluation metrics\n",
    "## Environment Preparation\n",
    "### Conda Environment"
   ]
  },
  {
   "cell_type": "markdown",
   "metadata": {},
   "source": [
    "You can set up the conda environment by running the following command:"
   ]
  },
  {
   "cell_type": "code",
   "execution_count": null,
   "metadata": {
    "vscode": {
     "languageId": "shellscript"
    }
   },
   "outputs": [],
   "source": [
    "conda env create -f eval.yml"
   ]
  },
  {
   "cell_type": "markdown",
   "metadata": {},
   "source": [
    "Besides, you have to install the following packages:\n",
    "\n",
    "``` bash\n",
    "\n",
    "pip install torch-scatter -f https://data.pyg.org/whl/torch-2.0.0+cu118.html\n",
    "pip install fair-esm\n",
    "\n",
    "\n",
    "```"
   ]
  },
  {
   "cell_type": "markdown",
   "metadata": {},
   "source": [
    "### Foldseek database\n",
    "\n",
    "When we calculate the novelty metric, we use the Foldseek database.\n",
    "\n",
    "\n",
    "``` bash\n",
    "\n",
    "conda install -c conda-forge -c bioconda foldseek\n",
    "mkdir ./foldseek_database\n",
    "cd ./foldseek_database\n",
    "foldseek databases PDB pdb tmp \n",
    "\n",
    "```"
   ]
  },
  {
   "cell_type": "markdown",
   "metadata": {},
   "source": [
    "Foldseek will download the PDB database automatically. After the download, you directory should look like this:\n",
    "\n",
    "```\n",
    "foldseek_database\n",
    "    ├── pdb\n",
    "    ├── pdb_ca\n",
    "    ├── pdb_ca.dbtype\n",
    "    ├── pdb_ca.index\n",
    "    ├── pdb_clu\n",
    "    ├── pdb_clu.dbtype\n",
    "    ├── pdb_clu.index\n",
    "    ├── pdb.dbtype\n",
    "    ├── pdb_h\n",
    "    ├── pdb_h.dbtype\n",
    "    ├── pdb_h.index\n",
    "    ├── pdb.index\n",
    "    ├── pdb.lookup\n",
    "    ├── pdb_mapping\n",
    "    ├── pdb_seq.0 -> pdb\n",
    "    ├── pdb_seq.1\n",
    "    ...\n",
    "```\n",
    "\n",
    "After downloading the foldseek database, you need to replace the database path in the `foldseek_database` field of the `configs/evaluation.yaml` file."
   ]
  },
  {
   "cell_type": "markdown",
   "metadata": {},
   "source": [
    "### Maxcluster\n",
    "\n",
    "When we cluster the designed protein based on their structure, we use maxcluster to cluster them.\n",
    "\n",
    "``` bash\n",
    "wget https://www.sbg.bio.ic.ac.uk/maxcluster/maxcluster64bit\n",
    "```"
   ]
  },
  {
   "cell_type": "markdown",
   "metadata": {},
   "source": [
    "#### Example data\n",
    "\n",
    "We provide some example data `./example_data` for testing purposes.\n",
    "\n",
    "```\n",
    "└── length_70\n",
    "    ├── sample_0\n",
    "    │   ├── bb_traj.pdb\n",
    "    │   ├── sample.pdb\n",
    "    │   └── x0_traj.pdb\n",
    "    ├── sample_1\n",
    "    │   ├── bb_traj.pdb\n",
    "    │   ├── sample.pdb\n",
    "    │   └── x0_traj.pdb\n",
    "```\n",
    "\n"
   ]
  },
  {
   "cell_type": "markdown",
   "metadata": {},
   "source": [
    "### ProteinMPNN\n",
    "\n",
    "We can use the ProteinMPNN model to design a sequence for a given structure. \n",
    "\n",
    "``` bash\n",
    "\n",
    "git clone https://github.com/dauparas/ProteinMPNN.git\n",
    "\n",
    "```"
   ]
  },
  {
   "cell_type": "markdown",
   "metadata": {},
   "source": [
    "## Evaluation\n",
    "\n",
    "### Single pdb evaluation"
   ]
  },
  {
   "cell_type": "code",
   "execution_count": 1,
   "metadata": {},
   "outputs": [],
   "source": [
    "# import package\n",
    "import os\n",
    "import time\n",
    "import numpy as np\n",
    "import hydra\n",
    "import torch\n",
    "import subprocess\n",
    "import logging\n",
    "import pandas as pd\n",
    "import shutil\n",
    "from datetime import datetime\n",
    "from biotite.sequence.io import fasta\n",
    "import GPUtil\n",
    "from typing import Optional, Union, List\n",
    "from analysis import utils as au\n",
    "from analysis import metrics\n",
    "from data import utils as du\n",
    "from omegaconf import DictConfig, OmegaConf\n",
    "from openfold.data import data_transforms\n",
    "import esm\n",
    "from pathlib import Path\n",
    "import mdtraj as md\n",
    "from openfold.np import residue_constants\n",
    "from tmtools import tm_align\n",
    "from openfold.utils.superimposition import superimpose\n",
    "from tqdm import tqdm\n",
    "import re\n",
    "import yaml"
   ]
  },
  {
   "cell_type": "code",
   "execution_count": null,
   "metadata": {},
   "outputs": [],
   "source": [
    "class DictToObject:\n",
    "    def __init__(self, dictionary):\n",
    "        for key, value in dictionary.items():\n",
    "            if isinstance(value, dict):\n",
    "                setattr(self, key, DictToObject(value))\n",
    "            else:\n",
    "                setattr(self, key, value)\n",
    "\n",
    "def load_config(file_path):\n",
    "    with open(file_path, \"r\") as f:\n",
    "        config = yaml.safe_load(f)\n",
    "    return config\n"
   ]
  },
  {
   "cell_type": "code",
   "execution_count": 3,
   "metadata": {},
   "outputs": [],
   "source": [
    "from EvalRunner import EvalRunner\n",
    "config_dict = load_config(\"./configs/evaluation.yaml\")\n",
    "conf = DictToObject(config_dict)\n",
    "EvalModel = EvalRunner(conf)\n"
   ]
  },
  {
   "cell_type": "markdown",
   "metadata": {},
   "source": [
    "#### Self consistency metrics\n",
    "\n",
    "```mermaid\n",
    "\n",
    "graph TD;\n",
    "    A[Protein Generative models] --> B[ProteinMPNN (inverse folding)];\n",
    "    B --> C[ESMFold (folding)];\n",
    "\n",
    "```\n"
   ]
  },
  {
   "cell_type": "code",
   "execution_count": 5,
   "metadata": {},
   "outputs": [
    {
     "data": {
      "text/html": [
       "<div>\n",
       "<style scoped>\n",
       "    .dataframe tbody tr th:only-of-type {\n",
       "        vertical-align: middle;\n",
       "    }\n",
       "\n",
       "    .dataframe tbody tr th {\n",
       "        vertical-align: top;\n",
       "    }\n",
       "\n",
       "    .dataframe thead th {\n",
       "        text-align: right;\n",
       "    }\n",
       "</style>\n",
       "<table border=\"1\" class=\"dataframe\">\n",
       "  <thead>\n",
       "    <tr style=\"text-align: right;\">\n",
       "      <th></th>\n",
       "      <th>tm_score</th>\n",
       "      <th>bb_rmsd</th>\n",
       "      <th>sample_path</th>\n",
       "      <th>header</th>\n",
       "      <th>sequence</th>\n",
       "    </tr>\n",
       "  </thead>\n",
       "  <tbody>\n",
       "    <tr>\n",
       "      <th>0</th>\n",
       "      <td>0.285942</td>\n",
       "      <td>12.353213</td>\n",
       "      <td>/home/shuaikes/server2/shuaikes/projects/prote...</td>\n",
       "      <td>sample, score=2.0021, global_score=2.0021, fix...</td>\n",
       "      <td>AAAAAAAAAAAAAAAAAAAAAAAAAAAAAAAAAAAAAAAAAAAAAA...</td>\n",
       "    </tr>\n",
       "    <tr>\n",
       "      <th>1</th>\n",
       "      <td>0.820439</td>\n",
       "      <td>2.127891</td>\n",
       "      <td>/home/shuaikes/server2/shuaikes/projects/prote...</td>\n",
       "      <td>T=0.1, sample=1, score=1.0243, global_score=1....</td>\n",
       "      <td>ATLTKMLVKVKDKSITLEDVKKIIKEVGVDAEIEIDKETNTVTITA...</td>\n",
       "    </tr>\n",
       "    <tr>\n",
       "      <th>2</th>\n",
       "      <td>0.838250</td>\n",
       "      <td>2.160685</td>\n",
       "      <td>/home/shuaikes/server2/shuaikes/projects/prote...</td>\n",
       "      <td>T=0.1, sample=2, score=1.0038, global_score=1....</td>\n",
       "      <td>SILTKLKIKIKDKSINLEDIKKIAKEEGINCKIEIDKETNEVIVEA...</td>\n",
       "    </tr>\n",
       "    <tr>\n",
       "      <th>3</th>\n",
       "      <td>0.852542</td>\n",
       "      <td>1.917273</td>\n",
       "      <td>/home/shuaikes/server2/shuaikes/projects/prote...</td>\n",
       "      <td>T=0.1, sample=3, score=0.9787, global_score=0....</td>\n",
       "      <td>MVKTKMKIKIKDKSINKEDIEKIVKEEGLNVEIEIDKDTNTVTVKG...</td>\n",
       "    </tr>\n",
       "  </tbody>\n",
       "</table>\n",
       "</div>"
      ],
      "text/plain": [
       "   tm_score    bb_rmsd                                        sample_path  \\\n",
       "0  0.285942  12.353213  /home/shuaikes/server2/shuaikes/projects/prote...   \n",
       "1  0.820439   2.127891  /home/shuaikes/server2/shuaikes/projects/prote...   \n",
       "2  0.838250   2.160685  /home/shuaikes/server2/shuaikes/projects/prote...   \n",
       "3  0.852542   1.917273  /home/shuaikes/server2/shuaikes/projects/prote...   \n",
       "\n",
       "                                              header  \\\n",
       "0  sample, score=2.0021, global_score=2.0021, fix...   \n",
       "1  T=0.1, sample=1, score=1.0243, global_score=1....   \n",
       "2  T=0.1, sample=2, score=1.0038, global_score=1....   \n",
       "3  T=0.1, sample=3, score=0.9787, global_score=0....   \n",
       "\n",
       "                                            sequence  \n",
       "0  AAAAAAAAAAAAAAAAAAAAAAAAAAAAAAAAAAAAAAAAAAAAAA...  \n",
       "1  ATLTKMLVKVKDKSITLEDVKKIIKEVGVDAEIEIDKETNTVTITA...  \n",
       "2  SILTKLKIKIKDKSINLEDIKKIAKEEGINCKIEIDKETNEVIVEA...  \n",
       "3  MVKTKMKIKIKDKSINKEDIEKIVKEEGLNVEIEIDKDTNTVTVKG...  "
      ]
     },
     "execution_count": 5,
     "metadata": {},
     "output_type": "execute_result"
    }
   ],
   "source": [
    "# Example pdb path\n",
    "pdb_path = \"/home/shuaikes/server2/shuaikes/projects/protein-evaluation-notebook/example_data/length_70/sample_0/\"\n",
    "sc_output_dir = os.path.join(pdb_path, \"self_consistency\")\n",
    "os.makedirs(sc_output_dir, exist_ok=True)\n",
    "\n",
    "sc_results = EvalModel.calc_designability(sc_output_dir, pdb_path)\n",
    "sc_results"
   ]
  },
  {
   "cell_type": "markdown",
   "metadata": {},
   "source": [
    "#### Sub-structure ratio evaluation"
   ]
  },
  {
   "cell_type": "code",
   "execution_count": 6,
   "metadata": {},
   "outputs": [
    {
     "data": {
      "text/plain": [
       "{'non_coil_percent': 0.6571428571428571,\n",
       " 'coil_percent': 0.34285714285714286,\n",
       " 'helix_percent': 0.34285714285714286,\n",
       " 'strand_percent': 0.3142857142857143,\n",
       " 'radius_of_gyration': 1.0974538862859071}"
      ]
     },
     "execution_count": 6,
     "metadata": {},
     "output_type": "execute_result"
    }
   ],
   "source": [
    "path = os.path.join(pdb_path, \"sample.pdb\")\n",
    "sub_ratio = EvalModel.calc_mdtraj_metrics(path)\n",
    "sub_ratio"
   ]
  },
  {
   "cell_type": "markdown",
   "metadata": {},
   "source": [
    "#### Novelty: pdbTM"
   ]
  },
  {
   "cell_type": "code",
   "execution_count": null,
   "metadata": {},
   "outputs": [
    {
     "name": "stdout",
     "output_type": "stream",
     "text": [
      "TM-Score between sample.pdb and its closest protein in PDB is 0.867.\n"
     ]
    }
   ],
   "source": [
    "path = os.path.join(pdb_path, \"sample.pdb\")\n",
    "value = EvalModel.pdbTM(pdb_path)\n",
    "value"
   ]
  },
  {
   "cell_type": "markdown",
   "metadata": {},
   "source": [
    "#### Calculate all metrics"
   ]
  },
  {
   "cell_type": "code",
   "execution_count": 9,
   "metadata": {},
   "outputs": [
    {
     "name": "stdout",
     "output_type": "stream",
     "text": [
      "Calculating all metrics...\n",
      "##########################################################################\n",
      "Calculating designability...\n",
      "   tm_score    bb_rmsd                                        sample_path  \\\n",
      "0  0.285942  12.353213  /home/shuaikes/server2/shuaikes/projects/prote...   \n",
      "1  0.820439   2.127891  /home/shuaikes/server2/shuaikes/projects/prote...   \n",
      "2  0.838250   2.160685  /home/shuaikes/server2/shuaikes/projects/prote...   \n",
      "3  0.852542   1.917273  /home/shuaikes/server2/shuaikes/projects/prote...   \n",
      "\n",
      "                                              header  \\\n",
      "0  sample, score=2.0021, global_score=2.0021, fix...   \n",
      "1  T=0.1, sample=1, score=1.0243, global_score=1....   \n",
      "2  T=0.1, sample=2, score=1.0038, global_score=1....   \n",
      "3  T=0.1, sample=3, score=0.9787, global_score=0....   \n",
      "\n",
      "                                            sequence  \n",
      "0  AAAAAAAAAAAAAAAAAAAAAAAAAAAAAAAAAAAAAAAAAAAAAA...  \n",
      "1  ATLTKMLVKVKDKSITLEDVKKIIKEVGVDAEIEIDKETNTVTITA...  \n",
      "2  SILTKLKIKIKDKSINLEDIKKIAKEEGINCKIEIDKETNEVIVEA...  \n",
      "3  MVKTKMKIKIKDKSINKEDIEKIVKEEGLNVEIEIDKDTNTVTVKG...  \n",
      "##########################################################################\n",
      "Calculating substructure ratio...\n",
      "   non_coil_percent  coil_percent  helix_percent  strand_percent  \\\n",
      "0          0.657143      0.342857       0.342857        0.314286   \n",
      "\n",
      "   radius_of_gyration  \n",
      "0            1.097454  \n",
      "##########################################################################\n",
      "Calculating novelty (pdbTM)...\n",
      "TM-Score between sample.pdb and its closest protein in PDB is 0.867.\n",
      "##########################################################################\n"
     ]
    }
   ],
   "source": [
    "EvalModel.calc_all_metrics(sc_output_dir, pdb_path)"
   ]
  },
  {
   "cell_type": "markdown",
   "metadata": {},
   "source": [
    "#### Diversity: number of clusters\n",
    "\n",
    "We are not able to calculate the diversity of the cluster for just single protein strucuture. So we need multiple pdb files here and we use csv to specify the path the protein structures.\n",
    "\n",
    "Your csv file should like this:\n",
    "\n",
    "```\n",
    "/home/shuaikes/server2/shuaikes/projects/protein-evaluation-notebook/example_data/length_70/sample_0/\n",
    "/home/shuaikes/server2/shuaikes/projects/protein-evaluation-notebook/example_data/length_70/sample_1/\n",
    "/home/shuaikes/server2/shuaikes/projects/protein-evaluation-notebook/example_data/length_70/sample_2/\n",
    "/home/shuaikes/server2/shuaikes/projects/protein-evaluation-notebook/example_data/length_70/sample_3/\n",
    "/home/shuaikes/server2/shuaikes/projects/protein-evaluation-notebook/example_data/length_70/sample_4/\n",
    "/home/shuaikes/server2/shuaikes/projects/protein-evaluation-notebook/example_data/length_70/sample_5/\n",
    "```"
   ]
  },
  {
   "cell_type": "code",
   "execution_count": null,
   "metadata": {},
   "outputs": [
    {
     "name": "stdout",
     "output_type": "stream",
     "text": [
      "6\n"
     ]
    }
   ],
   "source": [
    "pdb_csv_path = \"/home/shuaikes/server2/shuaikes/projects/protein-evaluation-notebook/pdb_path.csv\"\n",
    "clusters = EvalModel.calc_diversity(pdb_csv_path)\n",
    "clusters"
   ]
  }
 ],
 "metadata": {
  "kernelspec": {
   "display_name": "eval",
   "language": "python",
   "name": "python3"
  },
  "language_info": {
   "codemirror_mode": {
    "name": "ipython",
    "version": 3
   },
   "file_extension": ".py",
   "mimetype": "text/x-python",
   "name": "python",
   "nbconvert_exporter": "python",
   "pygments_lexer": "ipython3",
   "version": "3.10.12"
  }
 },
 "nbformat": 4,
 "nbformat_minor": 2
}
