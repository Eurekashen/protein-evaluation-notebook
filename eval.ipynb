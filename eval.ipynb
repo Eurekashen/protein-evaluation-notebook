{
 "cells": [
  {
   "cell_type": "markdown",
   "metadata": {},
   "source": [
    "## Protein evaluation notebook\n",
    "At first, you should install the required packages."
   ]
  },
  {
   "cell_type": "code",
   "execution_count": null,
   "metadata": {
    "vscode": {
     "languageId": "shellscript"
    }
   },
   "outputs": [],
   "source": [
    "conda env create -f fm.yml "
   ]
  },
  {
   "cell_type": "markdown",
   "metadata": {},
   "source": [
    "If you have generated some protein structures using diffusion or flow matching models, you will get a directory structure like this:\n",
    "\n",
    "```\n",
    "\n",
    "└── length_70\n",
    "    ├── sample_0\n",
    "    │   ├── bb_traj.pdb\n",
    "    │   ├── sample.pdb\n",
    "    │   └── x0_traj.pdb\n",
    "    ├── sample_1\n",
    "    │   ├── bb_traj.pdb\n",
    "    │   ├── sample.pdb\n",
    "    │   └── x0_traj.pdb\n",
    "    ├── sample_10\n",
    "    │   ├── bb_traj.pdb\n",
    "    │   ├── sample.pdb\n",
    "    │   └── x0_traj.pdb\n",
    "    ├── sample_2\n",
    "    │   ├── bb_traj.pdb\n",
    "    │   ├── sample.pdb\n",
    "    │   └── x0_traj.pdb\n",
    "    ...\n",
    "\n",
    "```"
   ]
  },
  {
   "cell_type": "markdown",
   "metadata": {},
   "source": [
    "And thenn you can test ProteinMPNN (inverse folding module) by running this script."
   ]
  },
  {
   "cell_type": "code",
   "execution_count": null,
   "metadata": {
    "vscode": {
     "languageId": "shellscript"
    }
   },
   "outputs": [],
   "source": [
    "python  /home/shuaikes/server2/shuaikes/projects/frameflow_rl/ProteinMPNN/protein_mpnn_run.py\\\n",
    "        --out_folder /home/shuaikes/server2/shuaikes/projects/frameflow_rl/inference_outputs/weights/pdb/published/unconditional/run_2024-10-21_01-26-05/length_70/sample_0/self_consistency/ \\\n",
    "        --jsonl_path /home/shuaikes/server2/shuaikes/projects/frameflow_rl/inference_outputs/weights/pdb/published/unconditional/run_2024-10-21_01-26-05/length_70/sample_0/self_consistency/parsed_pdbs.jsonl\\\n",
    "        --num_seq_per_target 5\\\n",
    "        --sampling_temp 0.1\\\n",
    "        --seed 38\\\n",
    "        --batch_size 1\\"
   ]
  },
  {
   "cell_type": "markdown",
   "metadata": {},
   "source": [
    "### Designability evaluation"
   ]
  },
  {
   "cell_type": "code",
   "execution_count": null,
   "metadata": {},
   "outputs": [],
   "source": [
    "# import evaluation class\n",
    "from eval.designability import DesignabilityEval"
   ]
  },
  {
   "cell_type": "code",
   "execution_count": null,
   "metadata": {},
   "outputs": [],
   "source": [
    "# config input and output paths\n",
    "\n",
    "pdb_path = \"/home/shuaikes/server2/shuaikes/projects/frameflow_rl/inference_outputs/weights/pdb/published/unconditional/run_2024-10-21_01-26-05/length_70/sample_0/\"\n",
    "output_dir = os.path.join(pdb_path, \"diversity\")\n",
    "os.makedirs(output_dir, exist_ok=True)\n",
    "cfg_pth = \"../configs\"\n",
    "cfg_name = \"designability.yaml\""
   ]
  },
  {
   "cell_type": "code",
   "execution_count": null,
   "metadata": {},
   "outputs": [],
   "source": [
    "@hydra.main(version_base=None, config_path=cfg_pth, config_name=cfg_name)\n",
    "def run(conf: DictConfig) -> None:\n",
    "\n",
    "    print('Test designability')\n",
    "    start_time = time.time()\n",
    "    Reward_model = DesignabilityEval(conf)\n",
    "    reward = Reward_model.get_reward(sc_output_dir, pdb_path)\n",
    "    \n",
    "    # run reward model based on csv file\n",
    "    # pdb_csv_path = \"/home/shuaikes/server2/shuaikes/projects/frameflow_rl/inference_outputs/weights/pdb/published/unconditional/run_2024-10-21_01-26-05/length_70/sample_1/pdb_paths.csv\"\n",
    "    # reward = Reward_model.get_designability_rewards(pdb_csv_path)\n",
    "    elapsed_time = time.time() - start_time\n",
    "    print(f'Finished in {elapsed_time:.2f}s')\n",
    "    print(reward)"
   ]
  },
  {
   "cell_type": "markdown",
   "metadata": {},
   "source": [
    "### Substructure evaluaion"
   ]
  },
  {
   "cell_type": "code",
   "execution_count": null,
   "metadata": {},
   "outputs": [],
   "source": [
    "from eval.substructure import SubstructureEval\n",
    "\n",
    "pdb_path = \"/home/shuaikes/server2/shuaikes/projects/frameflow_rl/inference_outputs/weights/pdb/published/unconditional/run_2024-10-21_01-26-05/length_70/sample_0/\"\n",
    "output_dir = os.path.join(pdb_path, \"diversity\")\n",
    "os.makedirs(output_dir, exist_ok=True)\n",
    "cfg_pth = \"../configs\"\n",
    "cfg_name = \"substructure.yaml\""
   ]
  },
  {
   "cell_type": "code",
   "execution_count": null,
   "metadata": {},
   "outputs": [],
   "source": [
    "@hydra.main(version_base=None, config_path=\"../configs\", config_name=\"rl_config\")\n",
    "def run(conf: DictConfig) -> None:\n",
    "\n",
    "    print('Test diversity')\n",
    "    start_time = time.time()\n",
    "    \n",
    "    # run reward model\n",
    "    Reward_model = SubstructureEval(conf)\n",
    "    _ = Reward_model.get_reward(output_dir, pdb_path)\n",
    "    \n",
    "    # run reward model based on csv file\n",
    "    # pdb_csv_path = \"/home/shuaikes/server2/shuaikes/projects/frameflow_rl/inference_outputs/weights/pdb/published/unconditional/run_2024-10-21_01-26-05/length_70/sample_1/pdb_paths.csv\"\n",
    "    # reward = Reward_model.get_diversity_rewards(pdb_csv_path)\n",
    "    \n",
    "    elapsed_time = time.time() - start_time\n",
    "    print(f'Finished in {elapsed_time:.2f}s')"
   ]
  },
  {
   "cell_type": "markdown",
   "metadata": {},
   "source": [
    "### Diversity: number of clusters"
   ]
  },
  {
   "cell_type": "code",
   "execution_count": null,
   "metadata": {},
   "outputs": [],
   "source": []
  },
  {
   "cell_type": "markdown",
   "metadata": {},
   "source": [
    "### Novelty: pdbTM"
   ]
  }
 ],
 "metadata": {
  "language_info": {
   "name": "python"
  }
 },
 "nbformat": 4,
 "nbformat_minor": 2
}
